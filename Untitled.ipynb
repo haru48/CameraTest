{
 "cells": [
  {
   "cell_type": "code",
   "execution_count": 1,
   "id": "aba43913",
   "metadata": {},
   "outputs": [
    {
     "name": "stdout",
     "output_type": "stream",
     "text": [
      "{'A11200000'}\n"
     ]
    }
   ],
   "source": [
    "import cv2\n",
    "\n",
    "# カメラデバイス取得\n",
    "cap = cv2.VideoCapture(0)\n",
    "# QRCodeDetectorを生成\n",
    "detector = cv2.QRCodeDetector()\n",
    "inroom = set()\n",
    "while True:\n",
    "    # カメラから1フレーム読み取り\n",
    "    ret, frame = cap.read()\n",
    "\n",
    "    # QRコードを認識\n",
    "    data = detector.detectAndDecode(frame)\n",
    "\n",
    "    # 読み取れたらデコードした内容をprint\n",
    "    if data[0] != \"\":\n",
    "        inroom.add(data[0])\n",
    "    # ウィンドウ表示\n",
    "    cv2.imshow('frame', frame)\n",
    "\n",
    "    # Qキー押すと終了\n",
    "    if cv2.waitKey(1) & 0xFF == ord('q'):\n",
    "        break\n",
    "\n",
    "# 終了処理\n",
    "cap.release()\n",
    "cv2.destroyAllWindows()\n",
    "print(inroom)"
   ]
  },
  {
   "cell_type": "code",
   "execution_count": 1,
   "id": "a5580770",
   "metadata": {},
   "outputs": [],
   "source": [
    "import plotly.graph_objects as go \n",
    "fig = go.Figure(data=go.Bar(y=[2, 3, 1])) \n",
    "fig.write_html('first_figure.html', auto_open=True)\n"
   ]
  },
  {
   "cell_type": "code",
   "execution_count": null,
   "id": "65f65486",
   "metadata": {},
   "outputs": [],
   "source": []
  }
 ],
 "metadata": {
  "kernelspec": {
   "display_name": "Python 3 (ipykernel)",
   "language": "python",
   "name": "python3"
  },
  "language_info": {
   "codemirror_mode": {
    "name": "ipython",
    "version": 3
   },
   "file_extension": ".py",
   "mimetype": "text/x-python",
   "name": "python",
   "nbconvert_exporter": "python",
   "pygments_lexer": "ipython3",
   "version": "3.7.9"
  }
 },
 "nbformat": 4,
 "nbformat_minor": 5
}
